{
 "cells": [
  {
   "cell_type": "code",
   "execution_count": null,
   "id": "5cad777b",
   "metadata": {},
   "outputs": [],
   "source": [
    "import numpy as np\n",
    "import pandas as pd\n",
    "from sklearn.metrics import precision_score, recall_score\n",
    "from sklearn.metrics import confusion_matrix\n",
    "from sklearn.metrics import roc_curve\n",
    "from sklearn.metrics import auc\n",
    "from sklearn.metrics import precision_score, recall_score, f1_score\n",
    "from sklearn.metrics import confusion_matrix\n",
    "# TensorFlow ≥2.0 is required\n",
    "import tensorflow as tf\n",
    "from tensorflow import keras\n",
    "assert tf.__version__ >= \"2.0\"\n"
   ]
  },
  {
   "cell_type": "code",
   "execution_count": null,
   "id": "f7c8b8c1",
   "metadata": {},
   "outputs": [],
   "source": [
    "def maeScores(originalDF, reducedDF):\n",
    "    loss = np.mean(np.abs(np.array(originalDF)-np.array(reducedDF)), axis=1)\n",
    "    loss = pd.Series(data=loss)\n",
    "    loss = (loss-np.min(loss))/(np.max(loss)-np.min(loss))\n",
    "    return loss"
   ]
  },
  {
   "cell_type": "code",
   "execution_count": null,
   "id": "0fbf91ed",
   "metadata": {},
   "outputs": [],
   "source": [
    "def anomScores_Snorkel(yp, trans_lhud_test, df_lhud_test, thres):\n",
    "    # Se o modelo é RNN, precisa mudar a dimensionalidade de 3d para 2d\n",
    "    if len(yp.shape) == 3:\n",
    "        yp = np.reshape(yp,(yp.shape[0]*yp.shape[1],yp.shape[2]))\n",
    "    #Cálculo dos scores de anomalias e aplicação do threshold para deteção de anomalias\n",
    "    anomalyScores = mapeScores(trans_lhud_test, yp)\n",
    "    density_threshold = np.percentile(anomalyScores, thres)\n",
    "    anomalyScores = anomalyScores.to_frame().reset_index(drop=True)\n",
    "    anomalyScores.set_index(df_lhud_test.index, inplace=True)\n",
    "    anomalyScores['anom'] = np.where((anomalyScores[0] > density_threshold),-1,1)\n",
    "    anomalyScores.columns = ['scores','anom']\n",
    "    anomalyScores = pd.concat([df_lhud_test,anomalyScores], axis=1)\n",
    "    return anomalyScores, density_threshold"
   ]
  },
  {
   "cell_type": "code",
   "execution_count": null,
   "id": "9c4bdc65",
   "metadata": {},
   "outputs": [],
   "source": [
    "### Retorna os scores de erro e se é anomalia de acordo com threshold\n",
    "def dnn_tf_anomScores(y_pred, trans_lhud_test, df_lhud_test, thres):\n",
    "    # Se o modelo é RNN, precisa mudar a dimensionalidade de 3d para 2d\n",
    "    if len(y_pred.shape) == 3:\n",
    "        y_pred = np.reshape(y_pred,(y_pred.shape[0]*y_pred.shape[1],y_pred.shape[2]))\n",
    "    #Cálculo dos scores de anomalias e aplicação do threshold para deteção de anomalias\n",
    "    anomalyScores = maeScores(trans_lhud_test, y_pred)\n",
    "    density_threshold = np.percentile(anomalyScores, thres)\n",
    "    #print(density_threshold)\n",
    "    anomalyScores = anomalyScores.to_frame().reset_index(drop=True)\n",
    "    anomalyScores.set_index(df_lhud_test.index, inplace=True)\n",
    "    anomalyScores['anom'] = np.where((anomalyScores[0] > density_threshold),-1,1)\n",
    "    anomalyScores.columns = ['scores','anom']\n",
    "    anomalyScores = pd.concat([df_lhud_test,anomalyScores], axis=1)\n",
    "    return anomalyScores, density_threshold\n"
   ]
  },
  {
   "cell_type": "code",
   "execution_count": null,
   "id": "7baa5e21",
   "metadata": {},
   "outputs": [],
   "source": [
    "def benchmark_snorkel(gold_anom, pred_anom):\n",
    "    # Anomalies preditas para o usuário\n",
    "    \n",
    "    # Calcula acurácia\n",
    "    n_correct = sum(pred_anom.iloc[:,-1].values == gold_anom.iloc[:,-1].values)\n",
    "    accuracy = n_correct / len(gold_anom)\n",
    "\n",
    "    #Confusion Matrix\n",
    "    cm = confusion_matrix(gold_anom.iloc[:,-1].values, \n",
    "                          pred_anom.iloc[:,-1].values,labels = [1,-1])\n",
    "    \n",
    "    precision = precision_score(gold_anom.iloc[:,-1].values, \n",
    "                      pred_anom.iloc[:,-1].values,\n",
    "                      pos_label=-1)\n",
    "    \n",
    "    recall = recall_score(gold_anom.iloc[:,-1].values, \n",
    "                      pred_anom.iloc[:,-1].values,\n",
    "                      pos_label=-1)\n",
    "    \n",
    "    f1 = f1_score(gold_anom.iloc[:,-1].values, \n",
    "                      pred_anom.iloc[:,-1].values,\n",
    "                      pos_label=-1)\n",
    "    \n",
    "    \n",
    "    fpr, tpr, thresholds = roc_curve(gold_anom.iloc[:,-1].values, \n",
    "                      pred_anom.iloc[:,-2].values, pos_label=-1)\n",
    "    \n",
    "    auc_score = auc(fpr, tpr)\n",
    "    \n",
    "    return accuracy, precision, recall, f1, cm, auc_score"
   ]
  },
  {
   "cell_type": "code",
   "execution_count": null,
   "id": "cc2bef6a",
   "metadata": {},
   "outputs": [],
   "source": [
    "def benchmark_user(user_anom, anomSc):\n",
    "    #Identifica o usuário a partir do dataset de anomalias rotulado\n",
    "    user = user_anom['user'].value_counts().index.tolist()[0]\n",
    "    \n",
    "    # Anomalies preditas para o usuário\n",
    "    pred_anom = anomSc[anomSc['user']==user]\n",
    "    \n",
    "    # Calcula acurácia\n",
    "    n_correct = sum(pred_anom.iloc[:,-1] == user_anom.iloc[:,-1])\n",
    "    accuracy = n_correct / len(user_anom)\n",
    "\n",
    "    #Confusion Matrix\n",
    "    cm = confusion_matrix(user_anom.iloc[:,-1], \n",
    "                          pred_anom.iloc[:,-1],labels = [1,-1])\n",
    "    \n",
    "    precision = precision_score(user_anom.iloc[:,-1], \n",
    "                      pred_anom.iloc[:,-1],\n",
    "                      pos_label=-1)\n",
    "    \n",
    "    recall = recall_score(user_anom.iloc[:,-1], \n",
    "                      pred_anom.iloc[:,-1],\n",
    "                      pos_label=-1)\n",
    "    \n",
    "    f1 = f1_score(user_anom.iloc[:,-1], \n",
    "                      pred_anom.iloc[:,-1],\n",
    "                      pos_label=-1)\n",
    "    \n",
    "    \n",
    "    fpr, tpr, thresholds = roc_curve(user_anom.iloc[:,-1], \n",
    "                      pred_anom.iloc[:,-2], pos_label=-1)\n",
    "    \n",
    "    auc_score = auc(fpr, tpr)\n",
    "    \n",
    "    return accuracy, precision, recall, f1, cm, auc_score\n"
   ]
  },
  {
   "cell_type": "code",
   "execution_count": null,
   "id": "e5ebe652",
   "metadata": {},
   "outputs": [],
   "source": [
    "def convert_sparse_matrix_to_sparse_tensor(X):\n",
    "    coo = X.tocoo()\n",
    "    indices = np.mat([coo.row, coo.col]).transpose()\n",
    "    return tf.SparseTensor(indices, coo.data, coo.shape)"
   ]
  }
 ],
 "metadata": {
  "kernelspec": {
   "display_name": "Python 3 (ipykernel)",
   "language": "python",
   "name": "python3"
  },
  "language_info": {
   "codemirror_mode": {
    "name": "ipython",
    "version": 3
   },
   "file_extension": ".py",
   "mimetype": "text/x-python",
   "name": "python",
   "nbconvert_exporter": "python",
   "pygments_lexer": "ipython3",
   "version": "3.7.12"
  }
 },
 "nbformat": 4,
 "nbformat_minor": 5
}
